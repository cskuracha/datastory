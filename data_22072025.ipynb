{
 "cells": [
  {
   "cell_type": "code",
   "execution_count": 1,
   "id": "887b3cc9",
   "metadata": {
    "_cell_guid": "0cb7ac78-ee71-4ce1-8e04-a0e4d1778ca3",
    "_uuid": "c8dc5771-4c75-457d-b5da-84380a916fa4",
    "collapsed": false,
    "execution": {
     "iopub.execute_input": "2025-09-24T07:39:42.867526Z",
     "iopub.status.busy": "2025-09-24T07:39:42.866853Z",
     "iopub.status.idle": "2025-09-24T07:39:46.197785Z",
     "shell.execute_reply": "2025-09-24T07:39:46.197126Z"
    },
    "jupyter": {
     "outputs_hidden": false
    },
    "papermill": {
     "duration": 3.335891,
     "end_time": "2025-09-24T07:39:46.199379",
     "exception": false,
     "start_time": "2025-09-24T07:39:42.863488",
     "status": "completed"
    },
    "tags": []
   },
   "outputs": [],
   "source": [
    "import pandas as pd\n",
    "import numpy as np\n",
    "import matplotlib.pyplot as plt\n",
    "import seaborn as sns"
   ]
  },
  {
   "cell_type": "markdown",
   "id": "c1c338f7",
   "metadata": {
    "papermill": {
     "duration": 0.001257,
     "end_time": "2025-09-24T07:39:46.202324",
     "exception": false,
     "start_time": "2025-09-24T07:39:46.201067",
     "status": "completed"
    },
    "tags": []
   },
   "source": [
    "### EDA"
   ]
  },
  {
   "cell_type": "code",
   "execution_count": null,
   "id": "51952ee4",
   "metadata": {
    "papermill": {
     "duration": 0.000965,
     "end_time": "2025-09-24T07:39:46.204502",
     "exception": false,
     "start_time": "2025-09-24T07:39:46.203537",
     "status": "completed"
    },
    "tags": []
   },
   "outputs": [],
   "source": []
  }
 ],
 "metadata": {
  "kaggle": {
   "accelerator": "none",
   "dataSources": [],
   "dockerImageVersionId": 31089,
   "isGpuEnabled": false,
   "isInternetEnabled": true,
   "language": "python",
   "sourceType": "notebook"
  },
  "kernelspec": {
   "display_name": "Python 3",
   "language": "python",
   "name": "python3"
  },
  "language_info": {
   "codemirror_mode": {
    "name": "ipython",
    "version": 3
   },
   "file_extension": ".py",
   "mimetype": "text/x-python",
   "name": "python",
   "nbconvert_exporter": "python",
   "pygments_lexer": "ipython3",
   "version": "3.11.13"
  },
  "papermill": {
   "default_parameters": {},
   "duration": 8.738987,
   "end_time": "2025-09-24T07:39:46.824383",
   "environment_variables": {},
   "exception": null,
   "input_path": "__notebook__.ipynb",
   "output_path": "__notebook__.ipynb",
   "parameters": {},
   "start_time": "2025-09-24T07:39:38.085396",
   "version": "2.6.0"
  }
 },
 "nbformat": 4,
 "nbformat_minor": 5
}
