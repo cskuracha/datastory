{
 "cells": [
  {
   "cell_type": "code",
   "execution_count": 1,
   "id": "4cbd22ef",
   "metadata": {
    "_cell_guid": "0cb7ac78-ee71-4ce1-8e04-a0e4d1778ca3",
    "_uuid": "c8dc5771-4c75-457d-b5da-84380a916fa4",
    "collapsed": false,
    "execution": {
     "iopub.execute_input": "2025-09-22T19:25:18.319885Z",
     "iopub.status.busy": "2025-09-22T19:25:18.319595Z",
     "iopub.status.idle": "2025-09-22T19:25:22.026985Z",
     "shell.execute_reply": "2025-09-22T19:25:22.026225Z"
    },
    "jupyter": {
     "outputs_hidden": false
    },
    "papermill": {
     "duration": 3.712147,
     "end_time": "2025-09-22T19:25:22.028662",
     "exception": false,
     "start_time": "2025-09-22T19:25:18.316515",
     "status": "completed"
    },
    "tags": []
   },
   "outputs": [],
   "source": [
    "import pandas as pd\n",
    "import numpy as np\n",
    "import matplotlib.pyplot as plt\n",
    "import seaborn as sns"
   ]
  },
  {
   "cell_type": "code",
   "execution_count": null,
   "id": "3b93fd4b",
   "metadata": {
    "papermill": {
     "duration": 0.000983,
     "end_time": "2025-09-22T19:25:22.031282",
     "exception": false,
     "start_time": "2025-09-22T19:25:22.030299",
     "status": "completed"
    },
    "tags": []
   },
   "outputs": [],
   "source": []
  }
 ],
 "metadata": {
  "kaggle": {
   "accelerator": "none",
   "dataSources": [],
   "dockerImageVersionId": 31089,
   "isGpuEnabled": false,
   "isInternetEnabled": true,
   "language": "python",
   "sourceType": "notebook"
  },
  "kernelspec": {
   "display_name": "Python 3",
   "language": "python",
   "name": "python3"
  },
  "language_info": {
   "codemirror_mode": {
    "name": "ipython",
    "version": 3
   },
   "file_extension": ".py",
   "mimetype": "text/x-python",
   "name": "python",
   "nbconvert_exporter": "python",
   "pygments_lexer": "ipython3",
   "version": "3.11.13"
  },
  "papermill": {
   "default_parameters": {},
   "duration": 9.597123,
   "end_time": "2025-09-22T19:25:22.651182",
   "environment_variables": {},
   "exception": null,
   "input_path": "__notebook__.ipynb",
   "output_path": "__notebook__.ipynb",
   "parameters": {},
   "start_time": "2025-09-22T19:25:13.054059",
   "version": "2.6.0"
  }
 },
 "nbformat": 4,
 "nbformat_minor": 5
}
