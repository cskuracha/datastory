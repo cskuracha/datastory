{
 "cells": [
  {
   "cell_type": "code",
   "execution_count": 1,
   "id": "92696797",
   "metadata": {
    "_cell_guid": "0cb7ac78-ee71-4ce1-8e04-a0e4d1778ca3",
    "_uuid": "c8dc5771-4c75-457d-b5da-84380a916fa4",
    "collapsed": false,
    "execution": {
     "iopub.execute_input": "2025-09-28T10:53:48.602841Z",
     "iopub.status.busy": "2025-09-28T10:53:48.601856Z",
     "iopub.status.idle": "2025-09-28T10:53:53.126316Z",
     "shell.execute_reply": "2025-09-28T10:53:53.124460Z"
    },
    "jupyter": {
     "outputs_hidden": false
    },
    "papermill": {
     "duration": 4.530932,
     "end_time": "2025-09-28T10:53:53.128638",
     "exception": false,
     "start_time": "2025-09-28T10:53:48.597706",
     "status": "completed"
    },
    "tags": []
   },
   "outputs": [],
   "source": [
    "import pandas as pd\n",
    "import numpy as np\n",
    "import matplotlib.pyplot as plt\n",
    "import seaborn as sns"
   ]
  },
  {
   "cell_type": "markdown",
   "id": "f4837770",
   "metadata": {
    "papermill": {
     "duration": 0.001571,
     "end_time": "2025-09-28T10:53:53.132373",
     "exception": false,
     "start_time": "2025-09-28T10:53:53.130802",
     "status": "completed"
    },
    "tags": []
   },
   "source": [
    "### EDA"
   ]
  },
  {
   "cell_type": "code",
   "execution_count": 2,
   "id": "bb0494d3",
   "metadata": {
    "execution": {
     "iopub.execute_input": "2025-09-28T10:53:53.137216Z",
     "iopub.status.busy": "2025-09-28T10:53:53.136666Z",
     "iopub.status.idle": "2025-09-28T10:53:53.205712Z",
     "shell.execute_reply": "2025-09-28T10:53:53.204416Z"
    },
    "papermill": {
     "duration": 0.073704,
     "end_time": "2025-09-28T10:53:53.207632",
     "exception": false,
     "start_time": "2025-09-28T10:53:53.133928",
     "status": "completed"
    },
    "tags": []
   },
   "outputs": [
    {
     "data": {
      "text/plain": [
       "EigResult(eigenvalues=array([5.33333333, 1.33333333]), eigenvectors=array([[ 0.70710678, -0.70710678],\n",
       "       [ 0.70710678,  0.70710678]]))"
      ]
     },
     "execution_count": 2,
     "metadata": {},
     "output_type": "execute_result"
    }
   ],
   "source": [
    "import numpy as np\n",
    "X = np.array( [ [ 1, -1], [-1, 1], [2, 2], [-2, -2] ] )\n",
    "cov_x = np.cov(X,rowvar=False)\n",
    "np.linalg.eig(cov_x)"
   ]
  },
  {
   "cell_type": "code",
   "execution_count": null,
   "id": "d3bcbd75",
   "metadata": {
    "papermill": {
     "duration": 0.001534,
     "end_time": "2025-09-28T10:53:53.211100",
     "exception": false,
     "start_time": "2025-09-28T10:53:53.209566",
     "status": "completed"
    },
    "tags": []
   },
   "outputs": [],
   "source": []
  }
 ],
 "metadata": {
  "kaggle": {
   "accelerator": "none",
   "dataSources": [],
   "dockerImageVersionId": 31089,
   "isGpuEnabled": false,
   "isInternetEnabled": true,
   "language": "python",
   "sourceType": "notebook"
  },
  "kernelspec": {
   "display_name": "Python 3",
   "language": "python",
   "name": "python3"
  },
  "language_info": {
   "codemirror_mode": {
    "name": "ipython",
    "version": 3
   },
   "file_extension": ".py",
   "mimetype": "text/x-python",
   "name": "python",
   "nbconvert_exporter": "python",
   "pygments_lexer": "ipython3",
   "version": "3.11.13"
  },
  "papermill": {
   "default_parameters": {},
   "duration": 11.352755,
   "end_time": "2025-09-28T10:53:53.933659",
   "environment_variables": {},
   "exception": null,
   "input_path": "__notebook__.ipynb",
   "output_path": "__notebook__.ipynb",
   "parameters": {},
   "start_time": "2025-09-28T10:53:42.580904",
   "version": "2.6.0"
  }
 },
 "nbformat": 4,
 "nbformat_minor": 5
}
