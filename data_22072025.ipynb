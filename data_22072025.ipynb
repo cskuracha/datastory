{
 "cells": [
  {
   "cell_type": "code",
   "execution_count": null,
   "id": "cbcb4864",
   "metadata": {
    "_cell_guid": "0cb7ac78-ee71-4ce1-8e04-a0e4d1778ca3",
    "_uuid": "c8dc5771-4c75-457d-b5da-84380a916fa4",
    "collapsed": false,
    "jupyter": {
     "outputs_hidden": false
    },
    "papermill": {
     "duration": 0.001665,
     "end_time": "2025-09-16T19:13:04.149208",
     "exception": false,
     "start_time": "2025-09-16T19:13:04.147543",
     "status": "completed"
    },
    "tags": []
   },
   "outputs": [],
   "source": []
  }
 ],
 "metadata": {
  "kaggle": {
   "accelerator": "none",
   "dataSources": [],
   "isGpuEnabled": false,
   "isInternetEnabled": true,
   "language": "python",
   "sourceType": "notebook"
  },
  "kernelspec": {
   "display_name": "Python 3",
   "language": "python",
   "name": "python3"
  },
  "language_info": {
   "codemirror_mode": {
    "name": "ipython",
    "version": 3
   },
   "file_extension": ".py",
   "mimetype": "text/x-python",
   "name": "python",
   "nbconvert_exporter": "python",
   "pygments_lexer": "ipython3",
   "version": "3.11.13"
  },
  "papermill": {
   "default_parameters": {},
   "duration": 6.298019,
   "end_time": "2025-09-16T19:13:04.570086",
   "environment_variables": {},
   "exception": null,
   "input_path": "__notebook__.ipynb",
   "output_path": "__notebook__.ipynb",
   "parameters": {},
   "start_time": "2025-09-16T19:12:58.272067",
   "version": "2.6.0"
  }
 },
 "nbformat": 4,
 "nbformat_minor": 5
}
