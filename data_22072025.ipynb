{
 "cells": [
  {
   "cell_type": "code",
   "execution_count": 1,
   "id": "27a01998",
   "metadata": {
    "_cell_guid": "0cb7ac78-ee71-4ce1-8e04-a0e4d1778ca3",
    "_uuid": "c8dc5771-4c75-457d-b5da-84380a916fa4",
    "collapsed": false,
    "execution": {
     "iopub.execute_input": "2025-09-26T21:19:28.935575Z",
     "iopub.status.busy": "2025-09-26T21:19:28.935219Z",
     "iopub.status.idle": "2025-09-26T21:19:33.155526Z",
     "shell.execute_reply": "2025-09-26T21:19:33.154598Z"
    },
    "jupyter": {
     "outputs_hidden": false
    },
    "papermill": {
     "duration": 4.225231,
     "end_time": "2025-09-26T21:19:33.157191",
     "exception": false,
     "start_time": "2025-09-26T21:19:28.931960",
     "status": "completed"
    },
    "tags": []
   },
   "outputs": [],
   "source": [
    "import pandas as pd\n",
    "import numpy as np\n",
    "import matplotlib.pyplot as plt\n",
    "import seaborn as sns"
   ]
  },
  {
   "cell_type": "markdown",
   "id": "206259fc",
   "metadata": {
    "papermill": {
     "duration": 0.001718,
     "end_time": "2025-09-26T21:19:33.160959",
     "exception": false,
     "start_time": "2025-09-26T21:19:33.159241",
     "status": "completed"
    },
    "tags": []
   },
   "source": [
    "### EDA"
   ]
  },
  {
   "cell_type": "code",
   "execution_count": 2,
   "id": "3cbbf31c",
   "metadata": {
    "execution": {
     "iopub.execute_input": "2025-09-26T21:19:33.165516Z",
     "iopub.status.busy": "2025-09-26T21:19:33.165042Z",
     "iopub.status.idle": "2025-09-26T21:19:33.218366Z",
     "shell.execute_reply": "2025-09-26T21:19:33.217459Z"
    },
    "papermill": {
     "duration": 0.057552,
     "end_time": "2025-09-26T21:19:33.220088",
     "exception": false,
     "start_time": "2025-09-26T21:19:33.162536",
     "status": "completed"
    },
    "tags": []
   },
   "outputs": [
    {
     "data": {
      "text/plain": [
       "EigResult(eigenvalues=array([5.33333333, 1.33333333]), eigenvectors=array([[ 0.70710678, -0.70710678],\n",
       "       [ 0.70710678,  0.70710678]]))"
      ]
     },
     "execution_count": 2,
     "metadata": {},
     "output_type": "execute_result"
    }
   ],
   "source": [
    "import numpy as np\n",
    "X = np.array( [ [ 1, -1], [-1, 1], [2, 2], [-2, -2] ] )\n",
    "cov_x = np.cov(X,rowvar=False)\n",
    "np.linalg.eig(cov_x)"
   ]
  },
  {
   "cell_type": "code",
   "execution_count": null,
   "id": "03271941",
   "metadata": {
    "papermill": {
     "duration": 0.001482,
     "end_time": "2025-09-26T21:19:33.223485",
     "exception": false,
     "start_time": "2025-09-26T21:19:33.222003",
     "status": "completed"
    },
    "tags": []
   },
   "outputs": [],
   "source": []
  }
 ],
 "metadata": {
  "kaggle": {
   "accelerator": "none",
   "dataSources": [],
   "dockerImageVersionId": 31089,
   "isGpuEnabled": false,
   "isInternetEnabled": true,
   "language": "python",
   "sourceType": "notebook"
  },
  "kernelspec": {
   "display_name": "Python 3",
   "language": "python",
   "name": "python3"
  },
  "language_info": {
   "codemirror_mode": {
    "name": "ipython",
    "version": 3
   },
   "file_extension": ".py",
   "mimetype": "text/x-python",
   "name": "python",
   "nbconvert_exporter": "python",
   "pygments_lexer": "ipython3",
   "version": "3.11.13"
  },
  "papermill": {
   "default_parameters": {},
   "duration": 11.06878,
   "end_time": "2025-09-26T21:19:33.944841",
   "environment_variables": {},
   "exception": null,
   "input_path": "__notebook__.ipynb",
   "output_path": "__notebook__.ipynb",
   "parameters": {},
   "start_time": "2025-09-26T21:19:22.876061",
   "version": "2.6.0"
  }
 },
 "nbformat": 4,
 "nbformat_minor": 5
}
